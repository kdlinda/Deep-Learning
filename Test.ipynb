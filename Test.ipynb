{
 "cells": [
  {
   "cell_type": "code",
   "execution_count": 2,
   "metadata": {
    "collapsed": true
   },
   "outputs": [],
   "source": [
    "import numpy as np\n",
    "def F(x1, x2):\n",
    "    return np.sin(np.pi * x1 / 2.0) * np.cos(np.pi * x2 / 4.0)\n",
    "\n",
    "A = 2\n",
    "nb_samples = 1000\n",
    "X_train = np.random.uniform(-A, +A, (nb_samples, 2))\n",
    "Y_train = np.vectorize(F)(X_train[:,0], X_train[:,1])"
   ]
  },
  {
   "cell_type": "code",
   "execution_count": 4,
   "metadata": {},
   "outputs": [
    {
     "data": {
      "text/plain": [
       "(1000, 2)"
      ]
     },
     "execution_count": 4,
     "metadata": {},
     "output_type": "execute_result"
    }
   ],
   "source": [
    "X_train.shape"
   ]
  },
  {
   "cell_type": "code",
   "execution_count": 4,
   "metadata": {},
   "outputs": [
    {
     "name": "stderr",
     "output_type": "stream",
     "text": [
      "Using TensorFlow backend.\n"
     ]
    }
   ],
   "source": [
    "from keras.models import Sequential\n",
    "model = Sequential()"
   ]
  },
  {
   "cell_type": "code",
   "execution_count": 6,
   "metadata": {
    "collapsed": true
   },
   "outputs": [],
   "source": [
    "from keras.layers import Dense, Activation\n",
    "\n",
    "nb_neurons = 20\n",
    "model.add(Dense(nb_neurons, input_shape=(2,)))\n",
    "model.add(Activation('relu'))\n",
    "model.add(Dense(1))"
   ]
  },
  {
   "cell_type": "code",
   "execution_count": 11,
   "metadata": {
    "collapsed": true
   },
   "outputs": [],
   "source": [
    "from keras.optimizers import SGD\n",
    "\n",
    "sgd = SGD(lr=0.01,\n",
    "decay=1e-6, momentum=0.9,\n",
    "nesterov=True)\n",
    "model.compile(loss='mean_squared_error', optimizer=sgd, metrics=['accuracy'])"
   ]
  },
  {
   "cell_type": "code",
   "execution_count": 12,
   "metadata": {},
   "outputs": [
    {
     "name": "stdout",
     "output_type": "stream",
     "text": [
      "Epoch 1/10\n",
      "1000/1000 [==============================] - 0s 372us/step - loss: 0.0538 - acc: 0.0000e+00\n",
      "Epoch 2/10\n",
      "1000/1000 [==============================] - 0s 84us/step - loss: 0.0525 - acc: 0.0000e+00\n",
      "Epoch 3/10\n",
      "1000/1000 [==============================] - 0s 76us/step - loss: 0.0532 - acc: 0.0000e+00\n",
      "Epoch 4/10\n",
      "1000/1000 [==============================] - 0s 64us/step - loss: 0.0516 - acc: 0.0000e+00\n",
      "Epoch 5/10\n",
      "1000/1000 [==============================] - 0s 60us/step - loss: 0.0504 - acc: 0.0000e+00\n",
      "Epoch 6/10\n",
      "1000/1000 [==============================] - 0s 72us/step - loss: 0.0487 - acc: 0.0000e+00\n",
      "Epoch 7/10\n",
      "1000/1000 [==============================] - 0s 72us/step - loss: 0.0490 - acc: 0.0000e+00\n",
      "Epoch 8/10\n",
      "1000/1000 [==============================] - 0s 60us/step - loss: 0.0471 - acc: 0.0000e+00\n",
      "Epoch 9/10\n",
      "1000/1000 [==============================] - 0s 72us/step - loss: 0.0472 - acc: 0.0000e+00\n",
      "Epoch 10/10\n",
      "1000/1000 [==============================] - 0s 64us/step - loss: 0.0469 - acc: 0.0000e+00\n"
     ]
    },
    {
     "data": {
      "text/plain": [
       "<keras.callbacks.History at 0x22221786e10>"
      ]
     },
     "execution_count": 12,
     "metadata": {},
     "output_type": "execute_result"
    }
   ],
   "source": [
    "model.fit(X_train, Y_train, epochs=10, batch_size=32)"
   ]
  },
  {
   "cell_type": "code",
   "execution_count": 13,
   "metadata": {},
   "outputs": [
    {
     "name": "stdout",
     "output_type": "stream",
     "text": [
      "0.653281482438\n",
      "[[ 1.5  0.5]]\n",
      "[[ 0.53107703]]\n",
      "0.531077\n"
     ]
    }
   ],
   "source": [
    "x = [1.5, 0.5]\n",
    "print(F(x[0], x[1]))\n",
    "x = np.array(x).reshape(1, 2)\n",
    "print(x)\n",
    "print( model.predict(x) )\n",
    "print( model.predict(x)[0][0] )"
   ]
  },
  {
   "cell_type": "code",
   "execution_count": 14,
   "metadata": {},
   "outputs": [
    {
     "name": "stdout",
     "output_type": "stream",
     "text": [
      "[[-2.         -2.        ]\n",
      " [-1.9798995  -2.        ]\n",
      " [-1.95979899 -2.        ]\n",
      " ..., \n",
      " [ 1.95979899  2.        ]\n",
      " [ 1.9798995   2.        ]\n",
      " [ 2.          2.        ]]\n",
      "[[-0.44436407]\n",
      " [-0.44590449]\n",
      " [-0.44744486]\n",
      " ..., \n",
      " [ 0.03020266]\n",
      " [ 0.02462184]\n",
      " [ 0.01904133]]\n"
     ]
    }
   ],
   "source": [
    "Width = 200\n",
    "Height = 200\n",
    "U = np.linspace(-A, +A, Width)\n",
    "V = np.linspace(-A, +A, Height)\n",
    "# Computes cartesian product between U and V:\n",
    "UV = np.transpose([np.tile(U, len(V)), np.repeat(V, len(U))])\n",
    "print(UV)\n",
    "ys = model.predict(UV)\n",
    "print(ys)\n",
    "I = ys.reshape(Width, Height)"
   ]
  },
  {
   "cell_type": "code",
   "execution_count": 15,
   "metadata": {},
   "outputs": [
    {
     "data": {
      "text/plain": [
       "<matplotlib.image.AxesImage at 0x2222321a6a0>"
      ]
     },
     "execution_count": 15,
     "metadata": {},
     "output_type": "execute_result"
    },
    {
     "data": {
      "image/png": "[encoded data removed]",
      "text/plain": [
       "<matplotlib.figure.Figure at 0x22221911ef0>"
      ]
     },
     "metadata": {},
     "output_type": "display_data"
    }
   ],
   "source": [
    "I = ys.reshape(Width, Height)\n",
    "import matplotlib.pyplot as plt\n",
    "import matplotlib.cm as cm\n",
    "#Make imageplotlib show the images inline\n",
    "#in Jupyter notebooks:\n",
    "%matplotlib inline\n",
    "plt.imshow(I, cmap = cm.Greys)"
   ]
  }
 ],
 "metadata": {
  "kernelspec": {
   "display_name": "Python 3",
   "language": "python",
   "name": "python3"
  },
  "language_info": {
   "codemirror_mode": {
    "name": "ipython",
    "version": 3
   },
   "file_extension": ".py",
   "mimetype": "text/x-python",
   "name": "python",
   "nbconvert_exporter": "python",
   "pygments_lexer": "ipython3",
   "version": "3.6.3"
  }
 },
 "nbformat": 4,
 "nbformat_minor": 2
}
